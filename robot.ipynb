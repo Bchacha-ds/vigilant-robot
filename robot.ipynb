{
 "cells": [
  {
   "cell_type": "markdown",
   "id": "8ab6e539",
   "metadata": {},
   "source": [
    "### Git \n"
   ]
  },
  {
   "cell_type": "code",
   "execution_count": null,
   "id": "c4c54046",
   "metadata": {},
   "outputs": [],
   "source": [
    "\"\"\"\n",
    "Our main agenda is to upload/push to GitHub.\n",
    "\n",
    "Steps before pushing\n",
    "- Make sure Git is initialised \n",
    "\n",
    "        git init \n",
    "- Stage our changes\n",
    "    \n",
    "        git add <argument>\n",
    "\n",
    "        #change for notebook alone\n",
    "        git add robot.ipynb\n",
    "\n",
    "        #track all the files\n",
    "        git add .\n",
    "\n",
    "- Taking the snapshot with a label\n",
    "        git commit -m 'First Commit'\n",
    "\n",
    "- Uploading to GitHub\n",
    "        git push origin <name of your branch>\n",
    "    \n",
    "\"\"\"\n",
    "\n",
    "\" git add remote origin <url> \""
   ]
  },
  {
   "cell_type": "markdown",
   "id": "eb30b644",
   "metadata": {},
   "source": [
    "### Python File I/O\n",
    "Python's built in ways to opening/loading files. ( Input and Output.)\n",
    "\n",
    "**open()** is the dedicated function in python to load files.\n",
    "```\n",
    "Syntax:\n",
    "\n",
    "open(filename, mode)\n",
    "```\n",
    "\n",
    "**Mode**\n",
    "* 'r'  ---> read only\n",
    "* 'w'  ---> write only(If file exists its overwritten else if not exists, it creates a new file)\n",
    "* 'r+' ---> read and write\n",
    "* 'a'  ---> append only(going to write new data at the end of the file without erasing existing.)\n"
   ]
  },
  {
   "cell_type": "code",
   "execution_count": 10,
   "id": "3856ec62",
   "metadata": {},
   "outputs": [
    {
     "data": {
      "application/vnd.microsoft.datawrangler.viewer.v0+json": {
       "columns": [
        {
         "name": "index",
         "rawType": "int64",
         "type": "integer"
        },
        {
         "name": "A",
         "rawType": "int64",
         "type": "integer"
        },
        {
         "name": "B",
         "rawType": "int64",
         "type": "integer"
        },
        {
         "name": "C",
         "rawType": "int64",
         "type": "integer"
        },
        {
         "name": "D",
         "rawType": "int64",
         "type": "integer"
        },
        {
         "name": "E",
         "rawType": "int64",
         "type": "integer"
        }
       ],
       "ref": "a3a1e82a-3f84-418b-a9ac-a314469b293c",
       "rows": [
        [
         "0",
         "1",
         "2",
         "3",
         "4",
         "5"
        ],
        [
         "1",
         "1",
         "2",
         "3",
         "4",
         "5"
        ],
        [
         "2",
         "1",
         "2",
         "3",
         "4",
         "5"
        ]
       ],
       "shape": {
        "columns": 5,
        "rows": 3
       }
      },
      "text/html": [
       "<div>\n",
       "<style scoped>\n",
       "    .dataframe tbody tr th:only-of-type {\n",
       "        vertical-align: middle;\n",
       "    }\n",
       "\n",
       "    .dataframe tbody tr th {\n",
       "        vertical-align: top;\n",
       "    }\n",
       "\n",
       "    .dataframe thead th {\n",
       "        text-align: right;\n",
       "    }\n",
       "</style>\n",
       "<table border=\"1\" class=\"dataframe\">\n",
       "  <thead>\n",
       "    <tr style=\"text-align: right;\">\n",
       "      <th></th>\n",
       "      <th>A</th>\n",
       "      <th>B</th>\n",
       "      <th>C</th>\n",
       "      <th>D</th>\n",
       "      <th>E</th>\n",
       "    </tr>\n",
       "  </thead>\n",
       "  <tbody>\n",
       "    <tr>\n",
       "      <th>0</th>\n",
       "      <td>1</td>\n",
       "      <td>2</td>\n",
       "      <td>3</td>\n",
       "      <td>4</td>\n",
       "      <td>5</td>\n",
       "    </tr>\n",
       "    <tr>\n",
       "      <th>1</th>\n",
       "      <td>1</td>\n",
       "      <td>2</td>\n",
       "      <td>3</td>\n",
       "      <td>4</td>\n",
       "      <td>5</td>\n",
       "    </tr>\n",
       "    <tr>\n",
       "      <th>2</th>\n",
       "      <td>1</td>\n",
       "      <td>2</td>\n",
       "      <td>3</td>\n",
       "      <td>4</td>\n",
       "      <td>5</td>\n",
       "    </tr>\n",
       "  </tbody>\n",
       "</table>\n",
       "</div>"
      ],
      "text/plain": [
       "   A  B  C  D  E\n",
       "0  1  2  3  4  5\n",
       "1  1  2  3  4  5\n",
       "2  1  2  3  4  5"
      ]
     },
     "execution_count": 10,
     "metadata": {},
     "output_type": "execute_result"
    }
   ],
   "source": [
    "#this is how we usually open our csv files\n",
    "import pandas as pd\n",
    "\n",
    "df = pd.read_csv('sample.csv')\n",
    "\n",
    "df.head()"
   ]
  },
  {
   "cell_type": "code",
   "execution_count": 5,
   "id": "c6b24792",
   "metadata": {},
   "outputs": [
    {
     "data": {
      "text/plain": [
       "'A,B,C,D,E\\n1,2,3,4,5\\n1,2,3,4,5\\n1,2,3,4,5'"
      ]
     },
     "execution_count": 5,
     "metadata": {},
     "output_type": "execute_result"
    }
   ],
   "source": [
    "x = open('./sample.csv', 'r')\n",
    "\n",
    "x.read()\n"
   ]
  },
  {
   "cell_type": "code",
   "execution_count": 6,
   "id": "deb7e490",
   "metadata": {},
   "outputs": [],
   "source": [
    "x.close()"
   ]
  },
  {
   "cell_type": "markdown",
   "id": "1204e02b",
   "metadata": {},
   "source": [
    "## 'with'\n",
    "This automatically opens and closes the file when using the `open()` function."
   ]
  },
  {
   "cell_type": "code",
   "execution_count": 8,
   "id": "368a7728",
   "metadata": {},
   "outputs": [
    {
     "name": "stdout",
     "output_type": "stream",
     "text": [
      "A,B,C,D,E\n",
      "1,2,3,4,5\n",
      "1,2,3,4,5\n",
      "1,2,3,4,5\n"
     ]
    }
   ],
   "source": [
    "with open('sample.csv', 'r') as f:\n",
    "    print(f.read())"
   ]
  },
  {
   "cell_type": "code",
   "execution_count": 16,
   "id": "e1d71b78",
   "metadata": {},
   "outputs": [
    {
     "name": "stdout",
     "output_type": "stream",
     "text": [
      "100 266\n",
      "122 256\n",
      "131 234\n"
     ]
    }
   ],
   "source": [
    "import csv\n",
    "\n",
    "with open('sample.csv') as f:\n",
    "    reader = csv.DictReader(f)\n",
    "    #\n",
    "    for row in reader:\n",
    "        print(row['Amsterdam'], row['Berlin'])"
   ]
  },
  {
   "cell_type": "code",
   "execution_count": 11,
   "id": "4985a967",
   "metadata": {},
   "outputs": [
    {
     "data": {
      "text/plain": [
       "pandas.core.frame.DataFrame"
      ]
     },
     "execution_count": 11,
     "metadata": {},
     "output_type": "execute_result"
    }
   ],
   "source": [
    "type(df)"
   ]
  },
  {
   "cell_type": "markdown",
   "id": "81ab356c",
   "metadata": {},
   "source": [
    "Create a new file and write to it."
   ]
  },
  {
   "cell_type": "code",
   "execution_count": 20,
   "id": "90d6be9f",
   "metadata": {},
   "outputs": [],
   "source": [
    "with open('cities.txt', 'w') as f:\n",
    "    f.write('Amsterdam | Berlin | Copenhagen')"
   ]
  },
  {
   "cell_type": "code",
   "execution_count": 21,
   "id": "776db29d",
   "metadata": {},
   "outputs": [],
   "source": [
    "with open('cities.txt', 'w') as f:\n",
    "    f.write('Dallas | London | Cairo')"
   ]
  },
  {
   "cell_type": "code",
   "execution_count": null,
   "id": "e20f5dce",
   "metadata": {},
   "outputs": [],
   "source": []
  },
  {
   "cell_type": "markdown",
   "id": "9042f15b",
   "metadata": {},
   "source": [
    "## JSON\n",
    "JSON is `Javascript Object Notation`"
   ]
  },
  {
   "cell_type": "code",
   "execution_count": 3,
   "id": "585037f0",
   "metadata": {},
   "outputs": [
    {
     "data": {
      "text/plain": [
       "'My_Jams'"
      ]
     },
     "execution_count": 3,
     "metadata": {},
     "output_type": "execute_result"
    }
   ],
   "source": [
    "import json\n",
    "\n",
    "\n",
    "#with open to load the json file\n",
    "with open('playlist.json', 'r') as f:\n",
    "    data = json.load(f)\n",
    "\n",
    "\n",
    "data['playlist_name']"
   ]
  },
  {
   "cell_type": "code",
   "execution_count": 3,
   "id": "b08fb186",
   "metadata": {},
   "outputs": [
    {
     "data": {
      "text/plain": [
       "list"
      ]
     },
     "execution_count": 3,
     "metadata": {},
     "output_type": "execute_result"
    }
   ],
   "source": [
    "type(data['tracks'])"
   ]
  },
  {
   "cell_type": "code",
   "execution_count": 13,
   "id": "b3edb894",
   "metadata": {},
   "outputs": [
    {
     "data": {
      "text/plain": [
       "dict"
      ]
     },
     "execution_count": 13,
     "metadata": {},
     "output_type": "execute_result"
    }
   ],
   "source": [
    "#with open to load the json file\n",
    "with open('playlist.json', 'r') as f:\n",
    "    data = json.load(f)\n",
    "\n",
    "\n",
    "\n",
    "type(data)"
   ]
  },
  {
   "cell_type": "code",
   "execution_count": null,
   "id": "bc848b2a",
   "metadata": {},
   "outputs": [
    {
     "data": {
      "text/plain": [
       "'{\\n  \"playlist_name\": \"My_Jams\",\\n  \"created_by\": \"Chacha\",\\n  \"tracks\": [\\n    {\\n      \"title\": \"Stan\",\\n      \"artist\": \"Eminem\",\\n      \"album\": \"The Marshall Mathers LP\",\\n      \"duration_sec\": 405\\n    },\\n    {\\n      \"title\": \"In Da Club\",\\n      \"artist\": \"50 Cent\",\\n      \"album\": \"Get Rich or Die Tryin\",\\n      \"duration_sec\": 240\\n    },\\n    {\\n      \"title\": \"Suzanna\",\\n      \"artist\": \"Sauti Sol\",\\n      \"album\": \"Midnight Train\",\\n      \"duration_sec\": 239\\n    },\\n    {\\n      \"title\": \"Many Men\",\\n      \"artist\": \"50 Cent\",\\n      \"album\": \"Get Rich or Die Tryin\",\\n      \"duration_sec\": 256\\n    },\\n    {\\n      \"title\": \"Bad Liar\",\\n      \"artist\": \"Imagine Dragons\",\\n      \"album\": \"Origins\",\\n      \"duration_sec\": 243\\n    }\\n  ]\\n}\\n'"
      ]
     },
     "execution_count": 10,
     "metadata": {},
     "output_type": "execute_result"
    }
   ],
   "source": [
    "#not recommended because everything will become a string\n",
    "with open('playlist.json', 'r') as f:\n",
    "    dt = f.read()\n",
    "\n",
    "dt"
   ]
  },
  {
   "cell_type": "code",
   "execution_count": null,
   "id": "8fbb918f",
   "metadata": {},
   "outputs": [
    {
     "data": {
      "text/plain": [
       "'{\\n  \"playlist_name\": \"My_Jams\",\\n  \"created_by\": \"Chacha\",\\n  \"tracks\": [\\n    {\\n      \"title\": \"Stan\",\\n      \"artist\": \"Eminem\",\\n      \"album\": \"The Marshall Mathers LP\",\\n      \"duration_sec\": 405\\n    },\\n    {\\n      \"title\": \"In Da Club\",\\n      \"artist\": \"50 Cent\",\\n      \"album\": \"Get Rich or Die Tryin\",\\n      \"duration_sec\": 240\\n    },\\n    {\\n      \"title\": \"Suzanna\",\\n      \"artist\": \"Sauti Sol\",\\n      \"album\": \"Midnight Train\",\\n      \"duration_sec\": 239\\n    },\\n    {\\n      \"title\": \"Many Men\",\\n      \"artist\": \"50 Cent\",\\n      \"album\": \"Get Rich or Die Tryin\",\\n      \"duration_sec\": 256\\n    },\\n    {\\n      \"title\": \"Bad Liar\",\\n      \"artist\": \"Imagine Dragons\",\\n      \"album\": \"Origins\",\\n      \"duration_sec\": 243\\n    }\\n  ]\\n}\\n'"
      ]
     },
     "execution_count": 12,
     "metadata": {},
     "output_type": "execute_result"
    }
   ],
   "source": [
    "type(dt)\n"
   ]
  },
  {
   "cell_type": "markdown",
   "id": "49bb5541",
   "metadata": {},
   "source": [
    "## Exploring JSON\n",
    "Now that we've loaded it lets check what is held within it."
   ]
  },
  {
   "cell_type": "code",
   "execution_count": 14,
   "id": "9d866b07",
   "metadata": {},
   "outputs": [
    {
     "data": {
      "text/plain": [
       "dict_keys(['playlist_name', 'created_by', 'tracks'])"
      ]
     },
     "execution_count": 14,
     "metadata": {},
     "output_type": "execute_result"
    }
   ],
   "source": [
    "data.keys()"
   ]
  },
  {
   "cell_type": "code",
   "execution_count": 15,
   "id": "e70de5a9",
   "metadata": {},
   "outputs": [
    {
     "data": {
      "text/plain": [
       "dict_items([('playlist_name', 'My_Jams'), ('created_by', 'Chacha'), ('tracks', [{'title': 'Stan', 'artist': 'Eminem', 'album': 'The Marshall Mathers LP', 'duration_sec': 405}, {'title': 'In Da Club', 'artist': '50 Cent', 'album': 'Get Rich or Die Tryin', 'duration_sec': 240}, {'title': 'Suzanna', 'artist': 'Sauti Sol', 'album': 'Midnight Train', 'duration_sec': 239}, {'title': 'Many Men', 'artist': '50 Cent', 'album': 'Get Rich or Die Tryin', 'duration_sec': 256}, {'title': 'Bad Liar', 'artist': 'Imagine Dragons', 'album': 'Origins', 'duration_sec': 243}])])"
      ]
     },
     "execution_count": 15,
     "metadata": {},
     "output_type": "execute_result"
    }
   ],
   "source": [
    "data.items()"
   ]
  },
  {
   "cell_type": "code",
   "execution_count": 16,
   "id": "b28d69b4",
   "metadata": {},
   "outputs": [
    {
     "data": {
      "text/plain": [
       "dict_values(['My_Jams', 'Chacha', [{'title': 'Stan', 'artist': 'Eminem', 'album': 'The Marshall Mathers LP', 'duration_sec': 405}, {'title': 'In Da Club', 'artist': '50 Cent', 'album': 'Get Rich or Die Tryin', 'duration_sec': 240}, {'title': 'Suzanna', 'artist': 'Sauti Sol', 'album': 'Midnight Train', 'duration_sec': 239}, {'title': 'Many Men', 'artist': '50 Cent', 'album': 'Get Rich or Die Tryin', 'duration_sec': 256}, {'title': 'Bad Liar', 'artist': 'Imagine Dragons', 'album': 'Origins', 'duration_sec': 243}]])"
      ]
     },
     "execution_count": 16,
     "metadata": {},
     "output_type": "execute_result"
    }
   ],
   "source": [
    "data.values()"
   ]
  },
  {
   "cell_type": "code",
   "execution_count": 17,
   "id": "e16b2231",
   "metadata": {},
   "outputs": [
    {
     "data": {
      "text/plain": [
       "'Suzanna'"
      ]
     },
     "execution_count": 17,
     "metadata": {},
     "output_type": "execute_result"
    }
   ],
   "source": [
    "#accessing the third song\n",
    "data['tracks'][2]['title']"
   ]
  },
  {
   "cell_type": "code",
   "execution_count": 18,
   "id": "9a78f77f",
   "metadata": {},
   "outputs": [
    {
     "data": {
      "text/plain": [
       "[{'title': 'Stan',\n",
       "  'artist': 'Eminem',\n",
       "  'album': 'The Marshall Mathers LP',\n",
       "  'duration_sec': 405},\n",
       " {'title': 'In Da Club',\n",
       "  'artist': '50 Cent',\n",
       "  'album': 'Get Rich or Die Tryin',\n",
       "  'duration_sec': 240},\n",
       " {'title': 'Suzanna',\n",
       "  'artist': 'Sauti Sol',\n",
       "  'album': 'Midnight Train',\n",
       "  'duration_sec': 239},\n",
       " {'title': 'Many Men',\n",
       "  'artist': '50 Cent',\n",
       "  'album': 'Get Rich or Die Tryin',\n",
       "  'duration_sec': 256},\n",
       " {'title': 'Bad Liar',\n",
       "  'artist': 'Imagine Dragons',\n",
       "  'album': 'Origins',\n",
       "  'duration_sec': 243}]"
      ]
     },
     "execution_count": 18,
     "metadata": {},
     "output_type": "execute_result"
    }
   ],
   "source": [
    "data['tracks']"
   ]
  },
  {
   "cell_type": "code",
   "execution_count": 19,
   "id": "481a2c6d",
   "metadata": {},
   "outputs": [
    {
     "data": {
      "text/plain": [
       "{'title': 'Suzanna',\n",
       " 'artist': 'Sauti Sol',\n",
       " 'album': 'Midnight Train',\n",
       " 'duration_sec': 239}"
      ]
     },
     "execution_count": 19,
     "metadata": {},
     "output_type": "execute_result"
    }
   ],
   "source": [
    "data['tracks'][2]"
   ]
  },
  {
   "cell_type": "code",
   "execution_count": 20,
   "id": "aee28e8a",
   "metadata": {},
   "outputs": [
    {
     "data": {
      "text/plain": [
       "'Suzanna'"
      ]
     },
     "execution_count": 20,
     "metadata": {},
     "output_type": "execute_result"
    }
   ],
   "source": [
    "data['tracks'][2]['title']"
   ]
  },
  {
   "cell_type": "code",
   "execution_count": 21,
   "id": "18853f90",
   "metadata": {},
   "outputs": [
    {
     "data": {
      "text/plain": [
       "[{'title': 'Stan',\n",
       "  'artist': 'Eminem',\n",
       "  'album': 'The Marshall Mathers LP',\n",
       "  'duration_sec': 405},\n",
       " {'title': 'In Da Club',\n",
       "  'artist': '50 Cent',\n",
       "  'album': 'Get Rich or Die Tryin',\n",
       "  'duration_sec': 240},\n",
       " {'title': 'Suzanna',\n",
       "  'artist': 'Sauti Sol',\n",
       "  'album': 'Midnight Train',\n",
       "  'duration_sec': 239},\n",
       " {'title': 'Many Men',\n",
       "  'artist': '50 Cent',\n",
       "  'album': 'Get Rich or Die Tryin',\n",
       "  'duration_sec': 256},\n",
       " {'title': 'Bad Liar',\n",
       "  'artist': 'Imagine Dragons',\n",
       "  'album': 'Origins',\n",
       "  'duration_sec': 243}]"
      ]
     },
     "execution_count": 21,
     "metadata": {},
     "output_type": "execute_result"
    }
   ],
   "source": [
    "## example 2\n",
    "data['tracks']"
   ]
  },
  {
   "cell_type": "code",
   "execution_count": 22,
   "id": "8ba7c4e7",
   "metadata": {},
   "outputs": [
    {
     "data": {
      "text/plain": [
       "{'title': 'Bad Liar',\n",
       " 'artist': 'Imagine Dragons',\n",
       " 'album': 'Origins',\n",
       " 'duration_sec': 243}"
      ]
     },
     "execution_count": 22,
     "metadata": {},
     "output_type": "execute_result"
    }
   ],
   "source": [
    "data['tracks'][-1]"
   ]
  },
  {
   "cell_type": "code",
   "execution_count": null,
   "id": "b93b4833",
   "metadata": {},
   "outputs": [
    {
     "data": {
      "text/plain": [
       "'Origins'"
      ]
     },
     "execution_count": 23,
     "metadata": {},
     "output_type": "execute_result"
    }
   ],
   "source": [
    "data['tracks'][-1]['album']"
   ]
  },
  {
   "cell_type": "markdown",
   "id": "c8f801ab",
   "metadata": {},
   "source": [
    "## Transforming JSON Schema\n",
    "Here we want to transform JSON into a flatter structure, which we can use for analysis."
   ]
  },
  {
   "cell_type": "code",
   "execution_count": 4,
   "id": "aa16ce5b",
   "metadata": {},
   "outputs": [
    {
     "data": {
      "text/plain": [
       "[{'title': 'Stan',\n",
       "  'artist': 'Eminem',\n",
       "  'album': 'The Marshall Mathers LP',\n",
       "  'duration_sec': 405,\n",
       "  'features': 'Jay Z'},\n",
       " {'title': 'In Da Club',\n",
       "  'artist': '50 Cent',\n",
       "  'album': 'Get Rich or Die Tryin',\n",
       "  'duration_sec': 240},\n",
       " {'title': 'Suzanna',\n",
       "  'artist': 'Sauti Sol',\n",
       "  'album': 'Midnight Train',\n",
       "  'duration_sec': 239},\n",
       " {'title': 'Many Men',\n",
       "  'artist': '50 Cent',\n",
       "  'album': 'Get Rich or Die Tryin',\n",
       "  'duration_sec': 256},\n",
       " {'title': 'Bad Liar',\n",
       "  'writer': 'Imagine Dragons',\n",
       "  'album': 'Origins',\n",
       "  'duration_sec': 243}]"
      ]
     },
     "execution_count": 4,
     "metadata": {},
     "output_type": "execute_result"
    }
   ],
   "source": [
    "\"\"\"\n",
    "Load the JSON File,\n",
    "iterate over the tracks and create a new dictionary from the data points\n",
    "\n",
    "'artist':['Eminem', '50 Cent', 'Sauti Sol', '50 Cent', 'Imagine Dragons']\n",
    "\n",
    "\"\"\"\n",
    "tracks = data['tracks']\n",
    "\n",
    "tracks\n"
   ]
  },
  {
   "cell_type": "code",
   "execution_count": 33,
   "id": "882044ee",
   "metadata": {},
   "outputs": [
    {
     "data": {
      "text/plain": [
       "[{'TITLE': 'Stan',\n",
       "  'ARTIST': 'Eminem',\n",
       "  'ALBUM': 'The Marshall Mathers LP',\n",
       "  'LENGTH OF SONG': 405,\n",
       "  'LENGTH IN MIN': 6.75},\n",
       " {'TITLE': 'In Da Club',\n",
       "  'ARTIST': '50 Cent',\n",
       "  'ALBUM': 'Get Rich or Die Tryin',\n",
       "  'LENGTH OF SONG': 240,\n",
       "  'LENGTH IN MIN': 4.0},\n",
       " {'TITLE': 'Suzanna',\n",
       "  'ARTIST': 'Sauti Sol',\n",
       "  'ALBUM': 'Midnight Train',\n",
       "  'LENGTH OF SONG': 239,\n",
       "  'LENGTH IN MIN': 3.98},\n",
       " {'TITLE': 'Many Men',\n",
       "  'ARTIST': '50 Cent',\n",
       "  'ALBUM': 'Get Rich or Die Tryin',\n",
       "  'LENGTH OF SONG': 256,\n",
       "  'LENGTH IN MIN': 4.27},\n",
       " {'TITLE': 'Bad Liar',\n",
       "  'ARTIST': 'Imagine Dragons',\n",
       "  'ALBUM': 'Origins',\n",
       "  'LENGTH OF SONG': 243,\n",
       "  'LENGTH IN MIN': 4.05}]"
      ]
     },
     "execution_count": 33,
     "metadata": {},
     "output_type": "execute_result"
    }
   ],
   "source": [
    "flattened_tracks = []\n",
    "\n",
    "\n",
    "for track in tracks:\n",
    "    flattened_tracks.append({\n",
    "        'TITLE': track['title'],\n",
    "        'ARTIST':track['artist'],\n",
    "        'ALBUM': track['album'],\n",
    "        'LENGTH OF SONG': track['duration_sec'],\n",
    "        'LENGTH IN MIN' : round(track['duration_sec'] / 60 ,2)\n",
    "    })\n",
    "\n",
    "flattened_tracks"
   ]
  },
  {
   "cell_type": "code",
   "execution_count": null,
   "id": "e0d3b1ce",
   "metadata": {},
   "outputs": [],
   "source": []
  },
  {
   "cell_type": "code",
   "execution_count": 52,
   "id": "d0c8f2fe",
   "metadata": {},
   "outputs": [
    {
     "data": {
      "application/vnd.microsoft.datawrangler.viewer.v0+json": {
       "columns": [
        {
         "name": "index",
         "rawType": "int64",
         "type": "integer"
        },
        {
         "name": "title",
         "rawType": "object",
         "type": "string"
        },
        {
         "name": "artist",
         "rawType": "object",
         "type": "unknown"
        },
        {
         "name": "album",
         "rawType": "object",
         "type": "string"
        },
        {
         "name": "duration_sec",
         "rawType": "int64",
         "type": "integer"
        },
        {
         "name": "features",
         "rawType": "object",
         "type": "unknown"
        },
        {
         "name": "writer",
         "rawType": "object",
         "type": "unknown"
        }
       ],
       "ref": "da06d086-2ced-4fe2-868a-1289f61c6c65",
       "rows": [
        [
         "0",
         "Stan",
         "Eminem",
         "The Marshall Mathers LP",
         "405",
         "Jay Z",
         null
        ],
        [
         "1",
         "In Da Club",
         "50 Cent",
         "Get Rich or Die Tryin",
         "240",
         null,
         null
        ],
        [
         "2",
         "Suzanna",
         "Sauti Sol",
         "Midnight Train",
         "239",
         null,
         null
        ],
        [
         "3",
         "Many Men",
         "50 Cent",
         "Get Rich or Die Tryin",
         "256",
         null,
         null
        ],
        [
         "4",
         "Bad Liar",
         null,
         "Origins",
         "243",
         null,
         "Imagine Dragons"
        ]
       ],
       "shape": {
        "columns": 6,
        "rows": 5
       }
      },
      "text/html": [
       "<div>\n",
       "<style scoped>\n",
       "    .dataframe tbody tr th:only-of-type {\n",
       "        vertical-align: middle;\n",
       "    }\n",
       "\n",
       "    .dataframe tbody tr th {\n",
       "        vertical-align: top;\n",
       "    }\n",
       "\n",
       "    .dataframe thead th {\n",
       "        text-align: right;\n",
       "    }\n",
       "</style>\n",
       "<table border=\"1\" class=\"dataframe\">\n",
       "  <thead>\n",
       "    <tr style=\"text-align: right;\">\n",
       "      <th></th>\n",
       "      <th>title</th>\n",
       "      <th>artist</th>\n",
       "      <th>album</th>\n",
       "      <th>duration_sec</th>\n",
       "      <th>features</th>\n",
       "      <th>writer</th>\n",
       "    </tr>\n",
       "  </thead>\n",
       "  <tbody>\n",
       "    <tr>\n",
       "      <th>0</th>\n",
       "      <td>Stan</td>\n",
       "      <td>Eminem</td>\n",
       "      <td>The Marshall Mathers LP</td>\n",
       "      <td>405</td>\n",
       "      <td>Jay Z</td>\n",
       "      <td>NaN</td>\n",
       "    </tr>\n",
       "    <tr>\n",
       "      <th>1</th>\n",
       "      <td>In Da Club</td>\n",
       "      <td>50 Cent</td>\n",
       "      <td>Get Rich or Die Tryin</td>\n",
       "      <td>240</td>\n",
       "      <td>NaN</td>\n",
       "      <td>NaN</td>\n",
       "    </tr>\n",
       "    <tr>\n",
       "      <th>2</th>\n",
       "      <td>Suzanna</td>\n",
       "      <td>Sauti Sol</td>\n",
       "      <td>Midnight Train</td>\n",
       "      <td>239</td>\n",
       "      <td>NaN</td>\n",
       "      <td>NaN</td>\n",
       "    </tr>\n",
       "    <tr>\n",
       "      <th>3</th>\n",
       "      <td>Many Men</td>\n",
       "      <td>50 Cent</td>\n",
       "      <td>Get Rich or Die Tryin</td>\n",
       "      <td>256</td>\n",
       "      <td>NaN</td>\n",
       "      <td>NaN</td>\n",
       "    </tr>\n",
       "    <tr>\n",
       "      <th>4</th>\n",
       "      <td>Bad Liar</td>\n",
       "      <td>NaN</td>\n",
       "      <td>Origins</td>\n",
       "      <td>243</td>\n",
       "      <td>NaN</td>\n",
       "      <td>Imagine Dragons</td>\n",
       "    </tr>\n",
       "  </tbody>\n",
       "</table>\n",
       "</div>"
      ],
      "text/plain": [
       "        title     artist                    album  duration_sec features  \\\n",
       "0        Stan     Eminem  The Marshall Mathers LP           405    Jay Z   \n",
       "1  In Da Club    50 Cent    Get Rich or Die Tryin           240      NaN   \n",
       "2     Suzanna  Sauti Sol           Midnight Train           239      NaN   \n",
       "3    Many Men    50 Cent    Get Rich or Die Tryin           256      NaN   \n",
       "4    Bad Liar        NaN                  Origins           243      NaN   \n",
       "\n",
       "            writer  \n",
       "0              NaN  \n",
       "1              NaN  \n",
       "2              NaN  \n",
       "3              NaN  \n",
       "4  Imagine Dragons  "
      ]
     },
     "execution_count": 52,
     "metadata": {},
     "output_type": "execute_result"
    }
   ],
   "source": [
    "import pandas as pd\n",
    "\n",
    "with open('playlist.json', 'r') as f:\n",
    "    playlist = json.load(f)\n",
    "\n",
    "\n",
    "#using pandas to make it a csv\n",
    "df = pd.DataFrame(playlist['tracks'])\n",
    "\n",
    "df.head()\n",
    "\n",
    "# df.to_csv('tracs.csv', index=True)"
   ]
  },
  {
   "cell_type": "code",
   "execution_count": null,
   "id": "3c431805",
   "metadata": {},
   "outputs": [
    {
     "data": {
      "application/vnd.microsoft.datawrangler.viewer.v0+json": {
       "columns": [
        {
         "name": "index",
         "rawType": "object",
         "type": "string"
        },
        {
         "name": "duration_sec",
         "rawType": "float64",
         "type": "float"
        }
       ],
       "ref": "1ef97d48-71fe-42c0-968a-c7458199f9be",
       "rows": [
        [
         "count",
         "5.0"
        ],
        [
         "mean",
         "276.6"
        ],
        [
         "std",
         "72.09923716656093"
        ],
        [
         "min",
         "239.0"
        ],
        [
         "25%",
         "240.0"
        ],
        [
         "50%",
         "243.0"
        ],
        [
         "75%",
         "256.0"
        ],
        [
         "max",
         "405.0"
        ]
       ],
       "shape": {
        "columns": 1,
        "rows": 8
       }
      },
      "text/html": [
       "<div>\n",
       "<style scoped>\n",
       "    .dataframe tbody tr th:only-of-type {\n",
       "        vertical-align: middle;\n",
       "    }\n",
       "\n",
       "    .dataframe tbody tr th {\n",
       "        vertical-align: top;\n",
       "    }\n",
       "\n",
       "    .dataframe thead th {\n",
       "        text-align: right;\n",
       "    }\n",
       "</style>\n",
       "<table border=\"1\" class=\"dataframe\">\n",
       "  <thead>\n",
       "    <tr style=\"text-align: right;\">\n",
       "      <th></th>\n",
       "      <th>duration_sec</th>\n",
       "    </tr>\n",
       "  </thead>\n",
       "  <tbody>\n",
       "    <tr>\n",
       "      <th>count</th>\n",
       "      <td>5.000000</td>\n",
       "    </tr>\n",
       "    <tr>\n",
       "      <th>mean</th>\n",
       "      <td>276.600000</td>\n",
       "    </tr>\n",
       "    <tr>\n",
       "      <th>std</th>\n",
       "      <td>72.099237</td>\n",
       "    </tr>\n",
       "    <tr>\n",
       "      <th>min</th>\n",
       "      <td>239.000000</td>\n",
       "    </tr>\n",
       "    <tr>\n",
       "      <th>25%</th>\n",
       "      <td>240.000000</td>\n",
       "    </tr>\n",
       "    <tr>\n",
       "      <th>50%</th>\n",
       "      <td>243.000000</td>\n",
       "    </tr>\n",
       "    <tr>\n",
       "      <th>75%</th>\n",
       "      <td>256.000000</td>\n",
       "    </tr>\n",
       "    <tr>\n",
       "      <th>max</th>\n",
       "      <td>405.000000</td>\n",
       "    </tr>\n",
       "  </tbody>\n",
       "</table>\n",
       "</div>"
      ],
      "text/plain": [
       "       duration_sec\n",
       "count      5.000000\n",
       "mean     276.600000\n",
       "std       72.099237\n",
       "min      239.000000\n",
       "25%      240.000000\n",
       "50%      243.000000\n",
       "75%      256.000000\n",
       "max      405.000000"
      ]
     },
     "execution_count": 28,
     "metadata": {},
     "output_type": "execute_result"
    }
   ],
   "source": [
    "df.describe()"
   ]
  },
  {
   "cell_type": "code",
   "execution_count": 34,
   "id": "c2d546dc",
   "metadata": {},
   "outputs": [
    {
     "data": {
      "text/plain": [
       "np.float64(3.2)"
      ]
     },
     "execution_count": 34,
     "metadata": {},
     "output_type": "execute_result"
    }
   ],
   "source": [
    "import numpy as np\n",
    "\n",
    "np.mean([1,2, 3,5, 5])\n",
    "\n"
   ]
  },
  {
   "cell_type": "code",
   "execution_count": null,
   "id": "f9e451cc",
   "metadata": {},
   "outputs": [
    {
     "data": {
      "text/plain": [
       "['title', 'artist', 'album', 'duration_sec']"
      ]
     },
     "execution_count": 49,
     "metadata": {},
     "output_type": "execute_result"
    }
   ],
   "source": [
    "list(data['tracks'][0].keys())"
   ]
  },
  {
   "cell_type": "code",
   "execution_count": 5,
   "id": "d541282a",
   "metadata": {},
   "outputs": [
    {
     "data": {
      "text/plain": [
       "[{'TITLE': 'Stan', 'ALBUM': 'The Marshall Mathers LP', 'LENGTH IN MIN': 6.75},\n",
       " {'TITLE': 'In Da Club',\n",
       "  'ALBUM': 'Get Rich or Die Tryin',\n",
       "  'LENGTH IN MIN': 4.0},\n",
       " {'TITLE': 'Suzanna', 'ALBUM': 'Midnight Train', 'LENGTH IN MIN': 3.98},\n",
       " {'TITLE': 'Many Men',\n",
       "  'ALBUM': 'Get Rich or Die Tryin',\n",
       "  'LENGTH IN MIN': 4.27},\n",
       " {'TITLE': 'Bad Liar', 'ALBUM': 'Origins', 'LENGTH IN MIN': 4.05}]"
      ]
     },
     "execution_count": 5,
     "metadata": {},
     "output_type": "execute_result"
    }
   ],
   "source": [
    "flattened_tracks = []\n",
    "\n",
    "\n",
    "for track in tracks:\n",
    "    flattened_tracks.append({\n",
    "        'TITLE': track['title'],\n",
    "        'ALBUM':track['album'],\n",
    "        'LENGTH IN MIN' : round(track['duration_sec'] / 60 ,2)\n",
    "    })\n",
    "\n",
    "flattened_tracks"
   ]
  },
  {
   "cell_type": "code",
   "execution_count": 7,
   "id": "e927a61d",
   "metadata": {},
   "outputs": [
    {
     "data": {
      "application/vnd.microsoft.datawrangler.viewer.v0+json": {
       "columns": [
        {
         "name": "index",
         "rawType": "int64",
         "type": "integer"
        },
        {
         "name": "TITLE",
         "rawType": "object",
         "type": "string"
        },
        {
         "name": "ALBUM",
         "rawType": "object",
         "type": "string"
        },
        {
         "name": "LENGTH IN MIN",
         "rawType": "float64",
         "type": "float"
        }
       ],
       "ref": "70339f37-e92c-4514-a74a-32135e42a9c2",
       "rows": [
        [
         "0",
         "Stan",
         "The Marshall Mathers LP",
         "6.75"
        ],
        [
         "1",
         "In Da Club",
         "Get Rich or Die Tryin",
         "4.0"
        ],
        [
         "2",
         "Suzanna",
         "Midnight Train",
         "3.98"
        ],
        [
         "3",
         "Many Men",
         "Get Rich or Die Tryin",
         "4.27"
        ],
        [
         "4",
         "Bad Liar",
         "Origins",
         "4.05"
        ]
       ],
       "shape": {
        "columns": 3,
        "rows": 5
       }
      },
      "text/html": [
       "<div>\n",
       "<style scoped>\n",
       "    .dataframe tbody tr th:only-of-type {\n",
       "        vertical-align: middle;\n",
       "    }\n",
       "\n",
       "    .dataframe tbody tr th {\n",
       "        vertical-align: top;\n",
       "    }\n",
       "\n",
       "    .dataframe thead th {\n",
       "        text-align: right;\n",
       "    }\n",
       "</style>\n",
       "<table border=\"1\" class=\"dataframe\">\n",
       "  <thead>\n",
       "    <tr style=\"text-align: right;\">\n",
       "      <th></th>\n",
       "      <th>TITLE</th>\n",
       "      <th>ALBUM</th>\n",
       "      <th>LENGTH IN MIN</th>\n",
       "    </tr>\n",
       "  </thead>\n",
       "  <tbody>\n",
       "    <tr>\n",
       "      <th>0</th>\n",
       "      <td>Stan</td>\n",
       "      <td>The Marshall Mathers LP</td>\n",
       "      <td>6.75</td>\n",
       "    </tr>\n",
       "    <tr>\n",
       "      <th>1</th>\n",
       "      <td>In Da Club</td>\n",
       "      <td>Get Rich or Die Tryin</td>\n",
       "      <td>4.00</td>\n",
       "    </tr>\n",
       "    <tr>\n",
       "      <th>2</th>\n",
       "      <td>Suzanna</td>\n",
       "      <td>Midnight Train</td>\n",
       "      <td>3.98</td>\n",
       "    </tr>\n",
       "    <tr>\n",
       "      <th>3</th>\n",
       "      <td>Many Men</td>\n",
       "      <td>Get Rich or Die Tryin</td>\n",
       "      <td>4.27</td>\n",
       "    </tr>\n",
       "    <tr>\n",
       "      <th>4</th>\n",
       "      <td>Bad Liar</td>\n",
       "      <td>Origins</td>\n",
       "      <td>4.05</td>\n",
       "    </tr>\n",
       "  </tbody>\n",
       "</table>\n",
       "</div>"
      ],
      "text/plain": [
       "        TITLE                    ALBUM  LENGTH IN MIN\n",
       "0        Stan  The Marshall Mathers LP           6.75\n",
       "1  In Da Club    Get Rich or Die Tryin           4.00\n",
       "2     Suzanna           Midnight Train           3.98\n",
       "3    Many Men    Get Rich or Die Tryin           4.27\n",
       "4    Bad Liar                  Origins           4.05"
      ]
     },
     "execution_count": 7,
     "metadata": {},
     "output_type": "execute_result"
    }
   ],
   "source": [
    "import pandas as pd\n",
    "\n",
    "pd.DataFrame(flattened_tracks).head()"
   ]
  },
  {
   "cell_type": "code",
   "execution_count": null,
   "id": "5e6c48b3",
   "metadata": {},
   "outputs": [],
   "source": []
  },
  {
   "cell_type": "code",
   "execution_count": 10,
   "id": "f1506215",
   "metadata": {},
   "outputs": [],
   "source": [
    "import json\n",
    "import csv\n",
    "\n",
    "\n",
    "#loading the json file\n",
    "with open('playlist.json', 'r') as f:\n",
    "    data = json.load(f)\n",
    "\n",
    "\n",
    "#creating a csv file \n",
    "with open('playlist.csv', 'w', newline=\"\") as f:\n",
    "    writer = csv.DictWriter(f, fieldnames=['title', 'artist', 'album', 'duration_sec'])\n",
    "    writer.writeheader()\n",
    "    writer.writerows(data['tracks'])\n",
    "\n",
    "\n"
   ]
  },
  {
   "cell_type": "code",
   "execution_count": null,
   "id": "79dee1af",
   "metadata": {},
   "outputs": [],
   "source": []
  }
 ],
 "metadata": {
  "kernelspec": {
   "display_name": "nlp_env",
   "language": "python",
   "name": "python3"
  },
  "language_info": {
   "codemirror_mode": {
    "name": "ipython",
    "version": 3
   },
   "file_extension": ".py",
   "mimetype": "text/x-python",
   "name": "python",
   "nbconvert_exporter": "python",
   "pygments_lexer": "ipython3",
   "version": "3.11.11"
  }
 },
 "nbformat": 4,
 "nbformat_minor": 5
}
