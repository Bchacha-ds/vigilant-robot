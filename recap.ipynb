{
 "cells": [
  {
   "cell_type": "code",
   "execution_count": null,
   "id": "9d8d8cee",
   "metadata": {},
   "outputs": [],
   "source": [
    "\"\"\" \n",
    "this is what was requested\n",
    "\n",
    "Covariance and Correlation in Numpy.\n",
    "\n",
    "List and dictionary comprehension\n",
    "\n",
    "Working with csv and json - this week's recap\n",
    "\n",
    "Data visualisation-------------------------------\n",
    "\"\"\""
   ]
  },
  {
   "cell_type": "markdown",
   "id": "6bdff5c9",
   "metadata": {},
   "source": [
    "### Covariance and Correlation"
   ]
  },
  {
   "cell_type": "code",
   "execution_count": 1,
   "id": "5e678f5d",
   "metadata": {},
   "outputs": [
    {
     "data": {
      "text/plain": [
       "array([[148.8,  22.9],\n",
       "       [ 22.9,   3.7]])"
      ]
     },
     "execution_count": 1,
     "metadata": {},
     "output_type": "execute_result"
    }
   ],
   "source": [
    "\"\"\" \n",
    "weight (x1)   kg    |          engine capacity (x2) l     |       km/l fuel consumption(y-target)\n",
    "\n",
    "1500                                3                                         7\n",
    "\n",
    "\"\"\"\n",
    "import numpy as np\n",
    "\n",
    "x = np.array([2,4,8,16,32])\n",
    "y = np.array([1,2,3,4,6])\n",
    "\n",
    "\n",
    "cov_x_y = np.cov(x,y)\n",
    "\n",
    "cov_x_y"
   ]
  },
  {
   "cell_type": "code",
   "execution_count": 3,
   "id": "a4c32847",
   "metadata": {},
   "outputs": [
    {
     "data": {
      "text/plain": [
       "array([[1.        , 0.97596255],\n",
       "       [0.97596255, 1.        ]])"
      ]
     },
     "execution_count": 3,
     "metadata": {},
     "output_type": "execute_result"
    }
   ],
   "source": [
    "np.corrcoef(x,y)"
   ]
  },
  {
   "cell_type": "code",
   "execution_count": null,
   "id": "133b93ca",
   "metadata": {},
   "outputs": [
    {
     "data": {
      "application/vnd.microsoft.datawrangler.viewer.v0+json": {
       "columns": [
        {
         "name": "index",
         "rawType": "int64",
         "type": "integer"
        },
        {
         "name": "0",
         "rawType": "int64",
         "type": "integer"
        }
       ],
       "ref": "fb6abc46-67eb-481d-807f-10c17219b499",
       "rows": [
        [
         "0",
         "1"
        ],
        [
         "1",
         "2"
        ],
        [
         "2",
         "3"
        ],
        [
         "3",
         "4"
        ],
        [
         "4",
         "6"
        ]
       ],
       "shape": {
        "columns": 1,
        "rows": 5
       }
      },
      "text/plain": [
       "0    1\n",
       "1    2\n",
       "2    3\n",
       "3    4\n",
       "4    6\n",
       "dtype: int64"
      ]
     },
     "execution_count": 6,
     "metadata": {},
     "output_type": "execute_result"
    }
   ],
   "source": [
    "import pandas as pd\n",
    "\n",
    "\n",
    "x_series = pd.Series(x)\n",
    "y_series = pd.Series(y)\n",
    "\n",
    "\n"
   ]
  },
  {
   "cell_type": "code",
   "execution_count": null,
   "id": "d51632e7",
   "metadata": {},
   "outputs": [],
   "source": []
  },
  {
   "cell_type": "code",
   "execution_count": 14,
   "id": "4c2ea6c2",
   "metadata": {},
   "outputs": [
    {
     "data": {
      "application/vnd.microsoft.datawrangler.viewer.v0+json": {
       "columns": [
        {
         "name": "index",
         "rawType": "int64",
         "type": "integer"
        },
        {
         "name": "0",
         "rawType": "float64",
         "type": "float"
        },
        {
         "name": "1",
         "rawType": "float64",
         "type": "float"
        }
       ],
       "ref": "5f77404f-adfd-4806-bf68-be2251c382d7",
       "rows": [
        [
         "0",
         "1.0",
         "0.9759625536525149"
        ],
        [
         "1",
         "0.9759625536525149",
         "1.0"
        ]
       ],
       "shape": {
        "columns": 2,
        "rows": 2
       }
      },
      "text/html": [
       "<div>\n",
       "<style scoped>\n",
       "    .dataframe tbody tr th:only-of-type {\n",
       "        vertical-align: middle;\n",
       "    }\n",
       "\n",
       "    .dataframe tbody tr th {\n",
       "        vertical-align: top;\n",
       "    }\n",
       "\n",
       "    .dataframe thead th {\n",
       "        text-align: right;\n",
       "    }\n",
       "</style>\n",
       "<table border=\"1\" class=\"dataframe\">\n",
       "  <thead>\n",
       "    <tr style=\"text-align: right;\">\n",
       "      <th></th>\n",
       "      <th>0</th>\n",
       "      <th>1</th>\n",
       "    </tr>\n",
       "  </thead>\n",
       "  <tbody>\n",
       "    <tr>\n",
       "      <th>0</th>\n",
       "      <td>1.000000</td>\n",
       "      <td>0.975963</td>\n",
       "    </tr>\n",
       "    <tr>\n",
       "      <th>1</th>\n",
       "      <td>0.975963</td>\n",
       "      <td>1.000000</td>\n",
       "    </tr>\n",
       "  </tbody>\n",
       "</table>\n",
       "</div>"
      ],
      "text/plain": [
       "          0         1\n",
       "0  1.000000  0.975963\n",
       "1  0.975963  1.000000"
      ]
     },
     "execution_count": 14,
     "metadata": {},
     "output_type": "execute_result"
    }
   ],
   "source": [
    "df = pd.concat([x_series,y_series],axis=1).head()\n",
    "\n",
    "df.corr()"
   ]
  },
  {
   "cell_type": "markdown",
   "id": "2e5b9222",
   "metadata": {},
   "source": [
    "### List and Dictionary Comprehension"
   ]
  },
  {
   "cell_type": "code",
   "execution_count": null,
   "id": "deafb333",
   "metadata": {},
   "outputs": [],
   "source": [
    "\"\"\" \n",
    "\n",
    "df2 = pd.DataFrame(flattened_tracks)\n",
    "\n",
    "df2.head()\n",
    "\"\"\"\n",
    "\n",
    "##\n",
    "# flavors = ['Vanilla','Chocolate', 'Cookie Dough']\n",
    "# toppings = ['Hot Fudge', 'Oreos', 'Marshmallows']\n",
    "\n"
   ]
  },
  {
   "cell_type": "code",
   "execution_count": 15,
   "id": "87d6835d",
   "metadata": {},
   "outputs": [
    {
     "data": {
      "text/plain": [
       "[4, 9, 25, 49, 121, 169, 289, 361]"
      ]
     },
     "execution_count": 15,
     "metadata": {},
     "output_type": "execute_result"
    }
   ],
   "source": [
    "prime_numbers = [2, 3, 5, 7, 11, 13, 17, 19]\n",
    "\n",
    "#create a new list with squared prime numbers\n",
    "loop_squared = []\n",
    "\n",
    "for prime_number in prime_numbers:\n",
    "\n",
    "    squared = prime_number ** 2\n",
    "\n",
    "    loop_squared.append(squared)\n",
    "\n",
    "loop_squared"
   ]
  },
  {
   "cell_type": "code",
   "execution_count": 16,
   "id": "2537143e",
   "metadata": {},
   "outputs": [
    {
     "data": {
      "text/plain": [
       "[4, 9, 25, 49, 121, 169, 289, 361]"
      ]
     },
     "execution_count": 16,
     "metadata": {},
     "output_type": "execute_result"
    }
   ],
   "source": [
    "comprehension_squared = [prime_number ** 2 for prime_number in prime_numbers]\n",
    "\n",
    "comprehension_squared"
   ]
  },
  {
   "cell_type": "code",
   "execution_count": 28,
   "id": "ed8c18a1",
   "metadata": {},
   "outputs": [
    {
     "data": {
      "text/plain": [
       "dict_items([(2, 4), (3, 9), (5, 25), (7, 49), (11, 121), (13, 169), (17, 289), (19, 361)])"
      ]
     },
     "execution_count": 28,
     "metadata": {},
     "output_type": "execute_result"
    }
   ],
   "source": [
    "### Dictionary Comprehension\n",
    "\n",
    "# [4, 9, 25, 49, 121, 169, 289, 361]\n",
    "# [2, 3, 5, 7, 11, 13, 17, 19]\n",
    "\n",
    "# {\n",
    "#     2:4,\n",
    "#     3:9,\n",
    "#     5:25\n",
    "# }\n",
    "\n",
    "# dict(zip(prime_numbers, comprehension_squared))\n",
    "\n",
    "dict_map = {}\n",
    "for prime_number in prime_numbers:\n",
    "    dict_map[prime_number] = prime_number ** 2\n",
    "\n",
    "dict_map.items()"
   ]
  },
  {
   "cell_type": "code",
   "execution_count": 32,
   "id": "d0fdc256",
   "metadata": {},
   "outputs": [
    {
     "data": {
      "text/plain": [
       "{2: 4, 3: 9, 5: 25, 7: 49, 11: 121, 13: 169, 17: 289, 19: 361}"
      ]
     },
     "execution_count": 32,
     "metadata": {},
     "output_type": "execute_result"
    }
   ],
   "source": [
    "dict_map2 = {}\n",
    "\n",
    "for key, value in zip(prime_numbers, comprehension_squared):\n",
    "    dict_map2[key] = value\n",
    "\n",
    "dict_map2"
   ]
  },
  {
   "cell_type": "code",
   "execution_count": 34,
   "id": "57b283c3",
   "metadata": {},
   "outputs": [
    {
     "data": {
      "text/plain": [
       "{2: 4, 3: 9, 5: 25, 7: 49, 11: 121, 13: 169, 17: 289, 19: 361}"
      ]
     },
     "execution_count": 34,
     "metadata": {},
     "output_type": "execute_result"
    }
   ],
   "source": [
    "comprehension_dict = {key:value for key, value in zip(prime_numbers, comprehension_squared)}\n",
    "\n",
    "comprehension_dict"
   ]
  },
  {
   "cell_type": "code",
   "execution_count": null,
   "id": "3ecdd494",
   "metadata": {},
   "outputs": [],
   "source": [
    "# flattened_tracks = []\n",
    "\n",
    "\n",
    "# for track in tracks:\n",
    "#     dict_keys = list(track.keys())\n",
    "#     #print(dict_keys)\n",
    "#     flattened_tracks.append({\n",
    "#         dict_keys[0]: track['title'],\n",
    "#         dict_keys[1]:track['artist'],\n",
    "#         dict_keys[2]: round(track['duration_sec'] / 60 ,2)\n",
    "#     })\n",
    "\n",
    "\n"
   ]
  }
 ],
 "metadata": {
  "kernelspec": {
   "display_name": "nlp_env",
   "language": "python",
   "name": "python3"
  },
  "language_info": {
   "codemirror_mode": {
    "name": "ipython",
    "version": 3
   },
   "file_extension": ".py",
   "mimetype": "text/x-python",
   "name": "python",
   "nbconvert_exporter": "python",
   "pygments_lexer": "ipython3",
   "version": "3.11.11"
  }
 },
 "nbformat": 4,
 "nbformat_minor": 5
}
